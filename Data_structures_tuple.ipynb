{
  "nbformat": 4,
  "nbformat_minor": 0,
  "metadata": {
    "colab": {
      "provenance": [],
      "authorship_tag": "ABX9TyP9e4BiuwMXGaRy1pDk19oO",
      "include_colab_link": true
    },
    "kernelspec": {
      "name": "python3",
      "display_name": "Python 3"
    },
    "language_info": {
      "name": "python"
    }
  },
  "cells": [
    {
      "cell_type": "markdown",
      "metadata": {
        "id": "view-in-github",
        "colab_type": "text"
      },
      "source": [
        "<a href=\"https://colab.research.google.com/github/bhutadaneha92/Python-Basic-codes/blob/main/Data_structures_tuple.ipynb\" target=\"_parent\"><img src=\"https://colab.research.google.com/assets/colab-badge.svg\" alt=\"Open In Colab\"/></a>"
      ]
    },
    {
      "cell_type": "code",
      "execution_count": null,
      "metadata": {
        "colab": {
          "base_uri": "https://localhost:8080/"
        },
        "id": "Z4-IGVGFUrpv",
        "outputId": "f3973ba0-0c6b-473a-d9ff-0c4211466931"
      },
      "outputs": [
        {
          "output_type": "stream",
          "name": "stdout",
          "text": [
            "(1, 2, 'Neha')\n"
          ]
        }
      ],
      "source": [
        "#tuple\n",
        "a=(1,2,'Neha')\n",
        "print(a)"
      ]
    },
    {
      "cell_type": "code",
      "source": [
        "#sort a dictionary according to key\n",
        "d= {'c':1,'b':10,'a':3}\n",
        "print(sorted(d.items()))  #sort dict according to key\n",
        "\n",
        "for key,value in sorted(d.items()):\n",
        "  print(key,value)"
      ],
      "metadata": {
        "colab": {
          "base_uri": "https://localhost:8080/"
        },
        "id": "0KLuNzosZPKZ",
        "outputId": "102436ac-b0b5-42e0-f43c-31a79988e8a5"
      },
      "execution_count": null,
      "outputs": [
        {
          "output_type": "stream",
          "name": "stdout",
          "text": [
            "[('a', 3), ('b', 10), ('c', 1)]\n",
            "a 3\n",
            "b 10\n",
            "c 1\n"
          ]
        }
      ]
    },
    {
      "cell_type": "code",
      "source": [
        "#sort a dictionary according to value\n",
        "d= {'c':1,'b':10,'a':3}\n",
        "#print(sorted(d.items()))  #sort dict according to key\n",
        "list1 = list()\n",
        "\n",
        "for key,value in d.items():\n",
        "  list1.append((value,key))\n",
        "print(\"unsorted = \",list1)\n",
        "\n",
        "list1 = sorted(list1) #sorted in Ascending order\n",
        "print(\"sorted = \",list1)\n",
        "\n",
        "list1 = sorted(list1, reverse = True) #sorted in Desending order\n",
        "print(\"sorted_desending = \",list1)\n",
        "\n",
        "list2 = list()\n",
        "#Shorter version of sorting\n",
        "list2 = sorted([(value,key) for key,value in d.items()])\n",
        "print(list2)\n",
        "\n",
        "list2 = sorted([(value,key) for key,value in d.items()],reverse=True)\n",
        "print(\"sorted_desending = \",list2)"
      ],
      "metadata": {
        "colab": {
          "base_uri": "https://localhost:8080/"
        },
        "id": "JeN2lc5ZaHxv",
        "outputId": "e6060333-53c1-4e19-d743-919f866f0e37"
      },
      "execution_count": null,
      "outputs": [
        {
          "output_type": "stream",
          "name": "stdout",
          "text": [
            "unsorted =  [(1, 'c'), (10, 'b'), (3, 'a')]\n",
            "sorted =  [(1, 'c'), (3, 'a'), (10, 'b')]\n",
            "sorted_desending =  [(10, 'b'), (3, 'a'), (1, 'c')]\n",
            "[(1, 'c'), (3, 'a'), (10, 'b')]\n",
            "sorted_desending =  [(10, 'b'), (3, 'a'), (1, 'c')]\n"
          ]
        }
      ]
    },
    {
      "cell_type": "markdown",
      "source": [
        "Create a file named \"file.txt\" and copy paste the following information in the file :\"the clown ran after the car and the car ran into the tent and the tent fell down on the clown and the car. Studying python is very important. perfect Plan B makes us perfect in python and Machine Learning\".  Count the number of words i.e each word comes how many times using dictionaries. For example, the comes 7 times, clown 2 times and so on. Thereafter, sort the words on the basis of frequency from highest to lowest i.e. the 7 would be first, then car 3 and so on. The output should be as follows:\"Enter File file.txt the 7 car 3 and 3 clown 2 ran 2 tent 2 python 2 perfect 2 after 1  into 1  fell 1 down 1 on 1 Studying 1  is 1 very 1 important 1  plan 1 B 1 makes 1 us 1 in 1 and 1 Machine 1 Learning 1\"."
      ],
      "metadata": {
        "id": "XjvQyWG3ftJS"
      }
    },
    {
      "cell_type": "code",
      "source": [
        "f = open(\"file.txt\")\n",
        "d= dict()\n",
        "list1 = list()\n",
        "list2 = list()\n",
        "tuple1 = ()\n",
        "\n",
        "for line in f:\n",
        "  line = line.rstrip()\n",
        "  list1 = line.split()\n",
        "print(\"split_list=\",list1)\n",
        "\n",
        "for key in list1:\n",
        "  d[key]=d.get(key,0) + 1\n",
        "print(\"dict =\",d)\n",
        "\n",
        "for k,v in d.items():\n",
        "  list2.append((v,k))\n",
        "print(list2)\n",
        "list2 = sorted(list2, reverse = True)\n",
        "print(\"finalsorting=\", list2)\n",
        "\n",
        "for v,k in list2:\n",
        "  print(k,v)"
      ],
      "metadata": {
        "id": "Pakp_hZIfvL_",
        "colab": {
          "base_uri": "https://localhost:8080/"
        },
        "outputId": "b17796e2-3fcb-4c4f-8269-bb074be77497"
      },
      "execution_count": null,
      "outputs": [
        {
          "output_type": "stream",
          "name": "stdout",
          "text": [
            "split_list= ['the', 'clown', 'ran', 'after', 'the', 'car', 'and', 'the', 'car', 'ran', 'into', 'the', 'tent', 'and', 'the', 'tent', 'fell', 'down', 'on', 'the', 'clown', 'and', 'the', 'car.', 'Studying', 'python', 'is', 'very', 'important.', 'perfect', 'Plan', 'B', 'makes', 'us', 'perfect', 'in', 'python', 'and', 'Machine', 'Learning']\n",
            "dict = {'the': 7, 'clown': 2, 'ran': 2, 'after': 1, 'car': 2, 'and': 4, 'into': 1, 'tent': 2, 'fell': 1, 'down': 1, 'on': 1, 'car.': 1, 'Studying': 1, 'python': 2, 'is': 1, 'very': 1, 'important.': 1, 'perfect': 2, 'Plan': 1, 'B': 1, 'makes': 1, 'us': 1, 'in': 1, 'Machine': 1, 'Learning': 1}\n",
            "[(7, 'the'), (2, 'clown'), (2, 'ran'), (1, 'after'), (2, 'car'), (4, 'and'), (1, 'into'), (2, 'tent'), (1, 'fell'), (1, 'down'), (1, 'on'), (1, 'car.'), (1, 'Studying'), (2, 'python'), (1, 'is'), (1, 'very'), (1, 'important.'), (2, 'perfect'), (1, 'Plan'), (1, 'B'), (1, 'makes'), (1, 'us'), (1, 'in'), (1, 'Machine'), (1, 'Learning')]\n",
            "finalsorting= [(7, 'the'), (4, 'and'), (2, 'tent'), (2, 'ran'), (2, 'python'), (2, 'perfect'), (2, 'clown'), (2, 'car'), (1, 'very'), (1, 'us'), (1, 'on'), (1, 'makes'), (1, 'is'), (1, 'into'), (1, 'in'), (1, 'important.'), (1, 'fell'), (1, 'down'), (1, 'car.'), (1, 'after'), (1, 'Studying'), (1, 'Plan'), (1, 'Machine'), (1, 'Learning'), (1, 'B')]\n",
            "the 7\n",
            "and 4\n",
            "tent 2\n",
            "ran 2\n",
            "python 2\n",
            "perfect 2\n",
            "clown 2\n",
            "car 2\n",
            "very 1\n",
            "us 1\n",
            "on 1\n",
            "makes 1\n",
            "is 1\n",
            "into 1\n",
            "in 1\n",
            "important. 1\n",
            "fell 1\n",
            "down 1\n",
            "car. 1\n",
            "after 1\n",
            "Studying 1\n",
            "Plan 1\n",
            "Machine 1\n",
            "Learning 1\n",
            "B 1\n"
          ]
        }
      ]
    },
    {
      "cell_type": "code",
      "source": [
        "f = open(\"file.txt\")\n",
        "d= dict()\n",
        "list1 = list()\n",
        "list2 = list()\n",
        "tuple1 = ()\n",
        "\n",
        "for line in f:\n",
        "  line = line.rstrip()\n",
        "  list1 = line.split()\n",
        "print(\"split_list=\",list1)\n",
        "\n",
        "for key in list1:\n",
        "  d[key]=d.get(key,0) + 1\n",
        "print(\"dict =\",d)\n",
        "\n",
        "list2 =list()\n",
        "list2 = sorted(((v,k) for k,v in d.items()), reverse = True)\n",
        "\n",
        "for v,k in list2:\n",
        "  print(k,v)\n"
      ],
      "metadata": {
        "colab": {
          "base_uri": "https://localhost:8080/"
        },
        "id": "DXP9h470iQAu",
        "outputId": "2e331f8c-1b35-4426-e1b7-aed195ac336e"
      },
      "execution_count": null,
      "outputs": [
        {
          "output_type": "stream",
          "name": "stdout",
          "text": [
            "split_list= ['the', 'clown', 'ran', 'after', 'the', 'car', 'and', 'the', 'car', 'ran', 'into', 'the', 'tent', 'and', 'the', 'tent', 'fell', 'down', 'on', 'the', 'clown', 'and', 'the', 'car.', 'Studying', 'python', 'is', 'very', 'important.', 'perfect', 'Plan', 'B', 'makes', 'us', 'perfect', 'in', 'python', 'and', 'Machine', 'Learning']\n",
            "dict = {'the': 7, 'clown': 2, 'ran': 2, 'after': 1, 'car': 2, 'and': 4, 'into': 1, 'tent': 2, 'fell': 1, 'down': 1, 'on': 1, 'car.': 1, 'Studying': 1, 'python': 2, 'is': 1, 'very': 1, 'important.': 1, 'perfect': 2, 'Plan': 1, 'B': 1, 'makes': 1, 'us': 1, 'in': 1, 'Machine': 1, 'Learning': 1}\n",
            "the 7\n",
            "and 4\n",
            "tent 2\n",
            "ran 2\n",
            "python 2\n",
            "perfect 2\n",
            "clown 2\n",
            "car 2\n",
            "very 1\n",
            "us 1\n",
            "on 1\n",
            "makes 1\n",
            "is 1\n",
            "into 1\n",
            "in 1\n",
            "important. 1\n",
            "fell 1\n",
            "down 1\n",
            "car. 1\n",
            "after 1\n",
            "Studying 1\n",
            "Plan 1\n",
            "Machine 1\n",
            "Learning 1\n",
            "B 1\n"
          ]
        }
      ]
    }
  ]
}