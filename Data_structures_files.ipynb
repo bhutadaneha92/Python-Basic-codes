{
  "nbformat": 4,
  "nbformat_minor": 0,
  "metadata": {
    "colab": {
      "provenance": [],
      "authorship_tag": "ABX9TyMdJy6vkWUPoJtnwqufvsky",
      "include_colab_link": true
    },
    "kernelspec": {
      "name": "python3",
      "display_name": "Python 3"
    },
    "language_info": {
      "name": "python"
    }
  },
  "cells": [
    {
      "cell_type": "markdown",
      "metadata": {
        "id": "view-in-github",
        "colab_type": "text"
      },
      "source": [
        "<a href=\"https://colab.research.google.com/github/bhutadaneha92/Python-Basic-codes/blob/main/Data_structures_files.ipynb\" target=\"_parent\"><img src=\"https://colab.research.google.com/assets/colab-badge.svg\" alt=\"Open In Colab\"/></a>"
      ]
    },
    {
      "cell_type": "code",
      "execution_count": null,
      "metadata": {
        "id": "pfhqGeGzgJCe"
      },
      "outputs": [],
      "source": [
        "#f=open(\"demo.txt\", 'x') #create a file\n",
        "#f=open(\"demo.txt\", 'r') #read a file\n",
        "#f = open(\"demo.txt\", 'a') #append a file\n",
        "#f = open(\"demo.txt\", 'w') #write a file"
      ]
    },
    {
      "cell_type": "code",
      "source": [
        "#print lines in file and count the number of lines\n",
        "f=open(\"demo.txt\", 'r') #read a file\n",
        "count=0\n",
        "for line in f:\n",
        "  count=count+1\n",
        "  print(line)\n",
        "\n",
        "print(count)"
      ],
      "metadata": {
        "colab": {
          "base_uri": "https://localhost:8080/"
        },
        "id": "rX91y5mRg0fr",
        "outputId": "de9b5e5c-5d8e-4b7c-a1b6-be24c5d38745"
      },
      "execution_count": null,
      "outputs": [
        {
          "output_type": "stream",
          "name": "stdout",
          "text": [
            "Hi\n",
            "\n",
            "How are you?\n",
            "\n",
            "I am Fine\n",
            "\n",
            "name: Neha \n",
            "\n",
            "name: Tejas\n",
            "\n",
            "Status: Married\n",
            "6\n"
          ]
        }
      ]
    },
    {
      "cell_type": "code",
      "source": [
        "f=open('demo.txt', \"r\")\n",
        "input = f.read()  #read whole file as a one complete string (Including newlines and spces)\n",
        "print(input)\n",
        "print(len(input))\n",
        "print(input[:20])\n",
        "\n",
        "if \"am\" in input:\n",
        "  print(\"Word found!\")\n",
        "\n",
        "lower =input.lower()\n",
        "print(lower)"
      ],
      "metadata": {
        "colab": {
          "base_uri": "https://localhost:8080/"
        },
        "id": "EAyYdOtbmaSe",
        "outputId": "4511066d-603b-436c-8019-a4491bea4148"
      },
      "execution_count": null,
      "outputs": [
        {
          "output_type": "stream",
          "name": "stdout",
          "text": [
            "Hi\n",
            "How are you?\n",
            "I am Fine\n",
            "name: Neha \n",
            "name: Tejas\n",
            "Status: Married\n",
            "65\n",
            "Hi\n",
            "How are you?\n",
            "I am\n",
            "Word found!\n",
            "hi\n",
            "how are you?\n",
            "i am fine\n",
            "name: neha \n",
            "name: tejas\n",
            "status: married\n"
          ]
        }
      ]
    },
    {
      "cell_type": "code",
      "source": [
        "#Searching through file and skip some lines\n",
        "f = open(\"demo.txt\", 'r')\n",
        "for line in f:\n",
        "  line = line.rstrip() #remove whitespace and newlines (Stripping)\n",
        "  #print(line)\n",
        "  #if line.startswith('name:'): #startswith() function use to print any particular line\n",
        "   # print(line)\n",
        "  #if not line.startswith('name:'): #startswith() function use to print any particular line\n",
        "  #  continue                        #continue - use to skip any particular line\n",
        "  if line.startswith('name:'): #startswith() function use to print any particular line\n",
        "    continue                        #continue - use to skip any particular line\n",
        "  print(line)"
      ],
      "metadata": {
        "colab": {
          "base_uri": "https://localhost:8080/"
        },
        "id": "fxqFWCe0rzM7",
        "outputId": "039cea83-0004-402c-e363-fa617c01796d"
      },
      "execution_count": null,
      "outputs": [
        {
          "output_type": "stream",
          "name": "stdout",
          "text": [
            "Hi\n",
            "How are you?\n",
            "I am Fine\n",
            "Status: Married\n"
          ]
        }
      ]
    },
    {
      "cell_type": "code",
      "source": [],
      "metadata": {
        "colab": {
          "base_uri": "https://localhost:8080/",
          "height": 211
        },
        "id": "2keREXs6wb_H",
        "outputId": "757d4bf5-ee12-40e5-9c14-ba8c13105e7c"
      },
      "execution_count": null,
      "outputs": [
        {
          "output_type": "error",
          "ename": "TypeError",
          "evalue": "'str' object is not callable",
          "traceback": [
            "\u001b[0;31m---------------------------------------------------------------------------\u001b[0m",
            "\u001b[0;31mTypeError\u001b[0m                                 Traceback (most recent call last)",
            "\u001b[0;32m<ipython-input-83-f32be02ebccc>\u001b[0m in \u001b[0;36m<cell line: 2>\u001b[0;34m()\u001b[0m\n\u001b[1;32m      1\u001b[0m \u001b[0;31m#Take filename from user\u001b[0m\u001b[0;34m\u001b[0m\u001b[0;34m\u001b[0m\u001b[0m\n\u001b[0;32m----> 2\u001b[0;31m \u001b[0mfname\u001b[0m \u001b[0;34m=\u001b[0m \u001b[0minput\u001b[0m \u001b[0;34m(\u001b[0m\u001b[0;34m\"Enter filename :\"\u001b[0m\u001b[0;34m)\u001b[0m\u001b[0;34m\u001b[0m\u001b[0;34m\u001b[0m\u001b[0m\n\u001b[0m\u001b[1;32m      3\u001b[0m \u001b[0mf\u001b[0m\u001b[0;34m=\u001b[0m\u001b[0mopen\u001b[0m\u001b[0;34m(\u001b[0m\u001b[0mfname\u001b[0m\u001b[0;34m,\u001b[0m \u001b[0;34m'r'\u001b[0m\u001b[0;34m)\u001b[0m \u001b[0;31m#read a file\u001b[0m\u001b[0;34m\u001b[0m\u001b[0;34m\u001b[0m\u001b[0m\n\u001b[1;32m      4\u001b[0m \u001b[0mcount\u001b[0m\u001b[0;34m=\u001b[0m\u001b[0;36m0\u001b[0m\u001b[0;34m\u001b[0m\u001b[0;34m\u001b[0m\u001b[0m\n\u001b[1;32m      5\u001b[0m \u001b[0;32mfor\u001b[0m \u001b[0mline\u001b[0m \u001b[0;32min\u001b[0m \u001b[0mf\u001b[0m\u001b[0;34m:\u001b[0m\u001b[0;34m\u001b[0m\u001b[0;34m\u001b[0m\u001b[0m\n",
            "\u001b[0;31mTypeError\u001b[0m: 'str' object is not callable"
          ]
        }
      ]
    }
  ]
}