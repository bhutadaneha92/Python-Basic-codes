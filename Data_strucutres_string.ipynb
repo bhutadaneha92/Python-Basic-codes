{
  "nbformat": 4,
  "nbformat_minor": 0,
  "metadata": {
    "colab": {
      "provenance": [],
      "mount_file_id": "1Cgi9XNiqBEtwrkVB31111XmAiYP2Gi64",
      "authorship_tag": "ABX9TyPUhd5SFHYMfuHW1n5kCWGu",
      "include_colab_link": true
    },
    "kernelspec": {
      "name": "python3",
      "display_name": "Python 3"
    }
  },
  "cells": [
    {
      "cell_type": "markdown",
      "metadata": {
        "id": "view-in-github",
        "colab_type": "text"
      },
      "source": [
        "<a href=\"https://colab.research.google.com/github/bhutadaneha92/Python-Basic-codes/blob/main/Data_strucutres_string.ipynb\" target=\"_parent\"><img src=\"https://colab.research.google.com/assets/colab-badge.svg\" alt=\"Open In Colab\"/></a>"
      ]
    },
    {
      "cell_type": "code",
      "metadata": {
        "id": "QbrdjOQ3iZgG"
      },
      "source": [
        "#code1 : Pgm to iterate over a characters of the string\n",
        "s = \"Neha is a cute girl\"\n",
        "count = 0\n",
        "#iterate over the string\n",
        "for letter in s :\n",
        "  print(letter)\n",
        "  #want to pcount any specific character\n",
        "  if letter == 'a' :\n",
        "    count = count + 1\n",
        "print(\"count of a =\",count)\n",
        "print(\"length of string is=\",len(s))\n",
        "#print(\"\\n\")"
      ],
      "execution_count": null,
      "outputs": []
    },
    {
      "cell_type": "code",
      "metadata": {
        "id": "9_XPF9v0kPfq"
      },
      "source": [
        "#code2 : Pgm to iterate over a characters of the string using range function\n",
        "s = \"Neha is a cute girl\"\n",
        "count = 0\n",
        "#iterate over the string\n",
        "for letter in range(0,len(s)) :\n",
        "  print(s[letter])\n",
        "  #want to pcount any specific character\n",
        "  if s[letter] == 'a' :\n",
        "    count = count + 1\n",
        "print(\"count of a =\",count)\n",
        "print(\"length of string is=\",len(s))\n",
        "#print(\"\\n\")"
      ],
      "execution_count": null,
      "outputs": []
    },
    {
      "cell_type": "code",
      "metadata": {
        "id": "7uNzKUoenbjR"
      },
      "source": [
        "#string slicing\n",
        "s = \"NehaMundada\"\n",
        "#Print the character from 0 to 5\n",
        "Char = s[:5] #[start_pos=0:end_pos=5:step=1]\n",
        "print(\"The characters from 0 to 5 =\",Char)\n",
        "#Print the character from 4 to 11\n",
        "Char1 = s[4:11] #[start_pos=4:end_pos=11:step=1]\n",
        "print(\"The characters from 4 to 11 =\",Char1)\n",
        "\n",
        "#print the string in reverse order\n",
        "Char2 = s[10:0:-1]\n",
        "print(\"The reverse characters from 11 to 0 =\",Char2)\n",
        "\n",
        "Char3 = s[::-1]\n",
        "print(\"The reverse characters from 11 to 0 =\",Char3)"
      ],
      "execution_count": null,
      "outputs": []
    },
    {
      "cell_type": "code",
      "metadata": {
        "id": "zyys4fbTszlR"
      },
      "source": [
        "#string_library_function\n",
        "s = \"  Neha Mundada  \"\n",
        "print(s.islower())\n",
        "print(s.isupper())\n",
        "print(s.lower())\n",
        "print(s.upper())\n",
        "#stripping space from start(left) or/and end(right)\n",
        "print(s.lstrip())\n",
        "print(s.rstrip())\n",
        "print(s.strip())\n",
        "\n"
      ],
      "execution_count": null,
      "outputs": []
    },
    {
      "cell_type": "code",
      "metadata": {
        "colab": {
          "base_uri": "https://localhost:8080/"
        },
        "id": "XyDwNFy6wf2h",
        "outputId": "6f7b5360-418b-4ff9-f8f5-614c17742b7e"
      },
      "source": [
        "#Parsing and extracting\n",
        "s = \"go to mundada.neha.9256028@gmail.com\"\n",
        "#I want to parse gmail.com\n",
        "atpos = s.find('@')\n",
        "print(\"@ = \",atpos)\n",
        "str = s[atpos+1::]\n",
        "print(str)\n",
        "#I want to find out mundada.neha\n",
        "pos = s.find('m')\n",
        "print(\"m_pos = \",pos)\n",
        "pos2 = s.find('9')\n",
        "print(\"9_pos = \", pos2)\n",
        "str2 = s[pos:pos2-1]\n",
        "print(str2)"
      ],
      "execution_count": null,
      "outputs": [
        {
          "output_type": "stream",
          "text": [
            "@ =  26\n",
            "gmail.com\n",
            "m_pos =  6\n",
            "9_pos =  19\n",
            "mundada.neha\n"
          ],
          "name": "stdout"
        }
      ]
    },
    {
      "cell_type": "code",
      "metadata": {
        "colab": {
          "base_uri": "https://localhost:8080/"
        },
        "id": "Ec084h71y9Eh",
        "outputId": "9d7d77cc-852f-475c-c698-e3eea86a6b72"
      },
      "source": [
        "x = '22'\n",
        "y = int(x) + 2\n",
        "print(y)"
      ],
      "execution_count": null,
      "outputs": [
        {
          "output_type": "stream",
          "text": [
            "24\n"
          ],
          "name": "stdout"
        }
      ]
    },
    {
      "cell_type": "code",
      "metadata": {
        "colab": {
          "base_uri": "https://localhost:8080/"
        },
        "id": "_Y5t5M_-zff5",
        "outputId": "0743b8b0-8339-40db-ce92-9a2f5d5973ec"
      },
      "source": [
        "print(len('per')*7)"
      ],
      "execution_count": null,
      "outputs": [
        {
          "output_type": "stream",
          "text": [
            "21\n"
          ],
          "name": "stdout"
        }
      ]
    },
    {
      "cell_type": "code",
      "metadata": {
        "id": "-Y7HH-q50QAl"
      },
      "source": [
        "#Take the following Python code that stores a string:`str = 'Perfect-Plan-B:0.7541' Use find and\n",
        "#string slicing to extract the portion of the string after the colon character and\n",
        "#then use the float function to convert the extracted string into a floating point number. *\n",
        "str = 'Perfect-Plan-B:0.7541'\n",
        "colon_pos = str.find(':')\n",
        "print(colon_pos)\n",
        "extract_str = str[colon_pos+1::]\n",
        "print(\"Extracted_char = \", extract_str)\n",
        "print(float(extract_str))\n"
      ],
      "execution_count": null,
      "outputs": []
    },
    {
      "cell_type": "code",
      "metadata": {
        "colab": {
          "base_uri": "https://localhost:8080/"
        },
        "id": "4U7r7eiRWKFW",
        "outputId": "9fe7e96e-845b-4f43-9b1b-8c16e9c7a505"
      },
      "source": [
        "stuff = 'P\\nb'\n",
        "print(len(stuff))"
      ],
      "execution_count": null,
      "outputs": [
        {
          "output_type": "stream",
          "name": "stdout",
          "text": [
            "3\n"
          ]
        }
      ]
    }
  ]
}