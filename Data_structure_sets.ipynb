{
  "nbformat": 4,
  "nbformat_minor": 0,
  "metadata": {
    "colab": {
      "provenance": [],
      "authorship_tag": "ABX9TyOMmGRl0tjNGxnYCOiiTlJT",
      "include_colab_link": true
    },
    "kernelspec": {
      "name": "python3",
      "display_name": "Python 3"
    },
    "language_info": {
      "name": "python"
    }
  },
  "cells": [
    {
      "cell_type": "markdown",
      "metadata": {
        "id": "view-in-github",
        "colab_type": "text"
      },
      "source": [
        "<a href=\"https://colab.research.google.com/github/bhutadaneha92/Python-Basic-codes/blob/main/Data_structure_sets.ipynb\" target=\"_parent\"><img src=\"https://colab.research.google.com/assets/colab-badge.svg\" alt=\"Open In Colab\"/></a>"
      ]
    },
    {
      "cell_type": "code",
      "execution_count": null,
      "metadata": {
        "colab": {
          "base_uri": "https://localhost:8080/",
          "height": 280
        },
        "id": "9I0mPi_8lXeG",
        "outputId": "afb2415d-4d36-48d8-a699-bb04b70036a2"
      },
      "outputs": [
        {
          "output_type": "stream",
          "name": "stdout",
          "text": [
            "{2, 3, 4.0, 9, 'Tejas', 'Neha'}\n",
            "{1, 2, 3, 4.0, 5, 6, 7, 9, 'Tejas', 'Neha'}\n",
            "{1, 3, 4.0, 5, 6, 7, 9, 'Tejas', 'Neha'}\n",
            "{1, 3, 4.0, 5, 6, 7, 9, 'Tejas', 'Neha'}\n",
            "{1, 3, 5, 6, 7, 9, 'Tejas', 'Neha'}\n"
          ]
        },
        {
          "output_type": "error",
          "ename": "KeyError",
          "evalue": "14",
          "traceback": [
            "\u001b[0;31m---------------------------------------------------------------------------\u001b[0m",
            "\u001b[0;31mKeyError\u001b[0m                                  Traceback (most recent call last)",
            "\u001b[0;32m<ipython-input-15-17ac0744cb5a>\u001b[0m in \u001b[0;36m<cell line: 22>\u001b[0;34m()\u001b[0m\n\u001b[1;32m     20\u001b[0m \u001b[0mset1\u001b[0m\u001b[0;34m.\u001b[0m\u001b[0mremove\u001b[0m\u001b[0;34m(\u001b[0m\u001b[0;36m4\u001b[0m\u001b[0;34m)\u001b[0m  \u001b[0;31m#remove the element\u001b[0m\u001b[0;34m\u001b[0m\u001b[0;34m\u001b[0m\u001b[0m\n\u001b[1;32m     21\u001b[0m \u001b[0mprint\u001b[0m\u001b[0;34m(\u001b[0m\u001b[0mset1\u001b[0m\u001b[0;34m)\u001b[0m\u001b[0;34m\u001b[0m\u001b[0;34m\u001b[0m\u001b[0m\n\u001b[0;32m---> 22\u001b[0;31m \u001b[0mset1\u001b[0m\u001b[0;34m.\u001b[0m\u001b[0mremove\u001b[0m\u001b[0;34m(\u001b[0m\u001b[0;36m14\u001b[0m\u001b[0;34m)\u001b[0m  \u001b[0;31m#raise an error if element is not present\u001b[0m\u001b[0;34m\u001b[0m\u001b[0;34m\u001b[0m\u001b[0m\n\u001b[0m\u001b[1;32m     23\u001b[0m \u001b[0mprint\u001b[0m\u001b[0;34m(\u001b[0m\u001b[0mset1\u001b[0m\u001b[0;34m)\u001b[0m\u001b[0;34m\u001b[0m\u001b[0;34m\u001b[0m\u001b[0m\n",
            "\u001b[0;31mKeyError\u001b[0m: 14"
          ]
        }
      ],
      "source": [
        "set1 = {\"Neha\",2,3,4.0}\n",
        "#add()\n",
        "set1.add(\"Tejas\") #add single element\n",
        "set1.add(9)\n",
        "print(set1)\n",
        "\n",
        "#update\n",
        "set1.update([1,2,3],[5,6,7]) #add multiple element\n",
        "print(set1)\n",
        "#set1.update(10,11)\n",
        "#print(set1)\n",
        "\n",
        "#discard()\n",
        "set1.discard(2)  #remove the element\n",
        "print(set1)\n",
        "set1.discard(14)  #does not raise an error if element is not present\n",
        "print(set1)\n",
        "\n",
        "#remove()\n",
        "set1.remove(4)  #remove the element\n",
        "print(set1)\n",
        "set1.remove(14)  #raise an error if element is not present\n",
        "print(set1)"
      ]
    },
    {
      "cell_type": "code",
      "source": [
        "set1 = {\"Neha\",2,3,4.0}\n",
        "\n",
        "#pop()- removing last element from a set\n",
        "x= set1.pop()\n",
        "print(x)\n",
        "print(set1)\n",
        "x1= set1.pop()\n",
        "print(x1)"
      ],
      "metadata": {
        "colab": {
          "base_uri": "https://localhost:8080/"
        },
        "id": "tj_u6iFnKppw",
        "outputId": "b482e88b-ed17-4bde-95fd-b92027cb595e"
      },
      "execution_count": null,
      "outputs": [
        {
          "output_type": "stream",
          "name": "stdout",
          "text": [
            "Neha\n",
            "{2, 3, 4.0}\n",
            "2\n"
          ]
        }
      ]
    },
    {
      "cell_type": "code",
      "source": [
        "set1 = {\"Neha\",2,3,4.0}\n",
        "print(set1)\n",
        "\n",
        "#clear() - remove all the elements of set\n",
        "set1.clear()\n",
        "print(set1)\n",
        "\n",
        "#del - delete set from memory\n",
        "del set1\n",
        "print(set1)"
      ],
      "metadata": {
        "colab": {
          "base_uri": "https://localhost:8080/",
          "height": 211
        },
        "id": "k61lbOzCL0JR",
        "outputId": "331d75ed-931c-40f5-8a15-7e8632eef163"
      },
      "execution_count": null,
      "outputs": [
        {
          "output_type": "stream",
          "name": "stdout",
          "text": [
            "{'Neha', 2, 3, 4.0}\n",
            "set()\n"
          ]
        },
        {
          "output_type": "error",
          "ename": "NameError",
          "evalue": "name 'set1' is not defined",
          "traceback": [
            "\u001b[0;31m---------------------------------------------------------------------------\u001b[0m",
            "\u001b[0;31mNameError\u001b[0m                                 Traceback (most recent call last)",
            "\u001b[0;32m<ipython-input-19-c74c3d5ba9cc>\u001b[0m in \u001b[0;36m<cell line: 10>\u001b[0;34m()\u001b[0m\n\u001b[1;32m      8\u001b[0m \u001b[0;31m#del - delete set from memory\u001b[0m\u001b[0;34m\u001b[0m\u001b[0;34m\u001b[0m\u001b[0m\n\u001b[1;32m      9\u001b[0m \u001b[0;32mdel\u001b[0m \u001b[0mset1\u001b[0m\u001b[0;34m\u001b[0m\u001b[0;34m\u001b[0m\u001b[0m\n\u001b[0;32m---> 10\u001b[0;31m \u001b[0mprint\u001b[0m\u001b[0;34m(\u001b[0m\u001b[0mset1\u001b[0m\u001b[0;34m)\u001b[0m\u001b[0;34m\u001b[0m\u001b[0;34m\u001b[0m\u001b[0m\n\u001b[0m",
            "\u001b[0;31mNameError\u001b[0m: name 'set1' is not defined"
          ]
        }
      ]
    },
    {
      "cell_type": "code",
      "source": [
        "A = {1,2,3,4}\n",
        "B = {4,5,6,7}\n",
        "#union()\n",
        "x= A.union(B) #1st method\n",
        "print(\"union=\",x)\n",
        "print(\"union2nd =\",A|B)  #2nd method\n",
        "\n",
        "#intersection()\n",
        "x= A.intersection(B) #1st method\n",
        "print(\"intersection=\",x)\n",
        "print(\"intersection2nd =\",A&B)  #2nd method\n",
        "\n",
        "#difference()\n",
        "x= A.difference(B) #1st method\n",
        "print(\"difference=\",x)\n",
        "print(\"difference2nd =\",A-B)  #2nd method\n",
        "\n",
        "#symmetric_difference()\n",
        "x= A.symmetric_difference(B) #1st method\n",
        "print(\"symmetric_difference=\",x)\n",
        "print(\"symmetric_difference2nd =\",A^B)  #2nd method"
      ],
      "metadata": {
        "colab": {
          "base_uri": "https://localhost:8080/"
        },
        "id": "O680eCOMQ-Ru",
        "outputId": "3fd4440d-af14-4187-902a-d6c17bc4faf3"
      },
      "execution_count": null,
      "outputs": [
        {
          "output_type": "stream",
          "name": "stdout",
          "text": [
            "union= {1, 2, 3, 4, 5, 6, 7}\n",
            "union2nd = {1, 2, 3, 4, 5, 6, 7}\n",
            "intersection= {4}\n",
            "intersection2nd = {4}\n",
            "difference= {1, 2, 3}\n",
            "difference2nd = {1, 2, 3}\n",
            "symmetric_difference= {1, 2, 3, 5, 6, 7}\n",
            "symmetric_difference2nd = {1, 2, 3, 5, 6, 7}\n"
          ]
        }
      ]
    },
    {
      "cell_type": "code",
      "source": [
        "a=set(91,2,3,4)\n",
        "\n",
        "print(a*3)"
      ],
      "metadata": {
        "colab": {
          "base_uri": "https://localhost:8080/",
          "height": 176
        },
        "id": "1qjWpsWnUPU7",
        "outputId": "ffa7e861-cc8c-48e3-c361-36d93e428bc2"
      },
      "execution_count": null,
      "outputs": [
        {
          "output_type": "error",
          "ename": "TypeError",
          "evalue": "set expected at most 1 argument, got 4",
          "traceback": [
            "\u001b[0;31m---------------------------------------------------------------------------\u001b[0m",
            "\u001b[0;31mTypeError\u001b[0m                                 Traceback (most recent call last)",
            "\u001b[0;32m<ipython-input-27-34f0c4cac7c3>\u001b[0m in \u001b[0;36m<cell line: 1>\u001b[0;34m()\u001b[0m\n\u001b[0;32m----> 1\u001b[0;31m \u001b[0ma\u001b[0m\u001b[0;34m=\u001b[0m\u001b[0mset\u001b[0m\u001b[0;34m(\u001b[0m\u001b[0;36m91\u001b[0m\u001b[0;34m,\u001b[0m\u001b[0;36m2\u001b[0m\u001b[0;34m,\u001b[0m\u001b[0;36m3\u001b[0m\u001b[0;34m,\u001b[0m\u001b[0;36m4\u001b[0m\u001b[0;34m)\u001b[0m\u001b[0;34m\u001b[0m\u001b[0;34m\u001b[0m\u001b[0m\n\u001b[0m\u001b[1;32m      2\u001b[0m \u001b[0;34m\u001b[0m\u001b[0m\n\u001b[1;32m      3\u001b[0m \u001b[0mprint\u001b[0m\u001b[0;34m(\u001b[0m\u001b[0ma\u001b[0m\u001b[0;34m*\u001b[0m\u001b[0;36m3\u001b[0m\u001b[0;34m)\u001b[0m\u001b[0;34m\u001b[0m\u001b[0;34m\u001b[0m\u001b[0m\n",
            "\u001b[0;31mTypeError\u001b[0m: set expected at most 1 argument, got 4"
          ]
        }
      ]
    },
    {
      "cell_type": "markdown",
      "source": [
        "Mr. Aakash is the manager at the star hotel. The hotel has an infinite amount of rooms. One fine day, a finite number of tourists come to stay at the hotel. The tourists consist of: → A Captain. → An unknown number of member The Captain was given a separate room, and the rest were given one room per member Mr. Aakash has an unordered list of randomly arranged room entries. The list consists of the room numbers for all of the tourists. The room numbers will appear many times in list for members except the Captain's room will appear only once in list. Mr. Aakash needs you to help him find the Captain's room number.let room number be : 1 2 3 6 5 4 4 2 5 3 6 1 6 5 3 2 4 1 2 5 1 4 3 6 8 4 3 1 5 6 2"
      ],
      "metadata": {
        "id": "mwJ-zNmyWykb"
      }
    },
    {
      "cell_type": "code",
      "source": [
        "a = [1,2,3,6, 5, 4, 4, 2, 5, 3, 6, 1, 6, 5, 3, 2, 4, 1, 2, 5, 1, 4, 3, 6, 8, 4, 3, 1, 5, 6, 2]\n",
        "print(a)\n",
        "d = dict()\n",
        "\n",
        "for room in a:\n",
        "  d[room] = d.get(room,0) + 1\n",
        "print(d)\n",
        "\n",
        "for k,v in d.items():\n",
        "  if v==1:\n",
        "    print(\"Captain room number = \", k)\n",
        "  else:\n",
        "    continue\n"
      ],
      "metadata": {
        "colab": {
          "base_uri": "https://localhost:8080/"
        },
        "id": "xpaKDBLSW0Ml",
        "outputId": "b85c14b4-a25c-4592-9dd7-939cc8da0801"
      },
      "execution_count": null,
      "outputs": [
        {
          "output_type": "stream",
          "name": "stdout",
          "text": [
            "[1, 2, 3, 6, 5, 4, 4, 2, 5, 3, 6, 1, 6, 5, 3, 2, 4, 1, 2, 5, 1, 4, 3, 6, 8, 4, 3, 1, 5, 6, 2]\n",
            "{1: 5, 2: 5, 3: 5, 6: 5, 5: 5, 4: 5, 8: 1}\n",
            "Captain room number =  8\n"
          ]
        }
      ]
    },
    {
      "cell_type": "code",
      "source": [
        "\n",
        "\n",
        "def find_captains_room(rooms_list):\n",
        "    room_dict = {}\n",
        "    for room in rooms_list:\n",
        "        if room in room_dict:\n",
        "            room_dict[room] += 1\n",
        "        else:\n",
        "            room_dict[room] = 1\n",
        "\n",
        "    for room, count in room_dict.items():\n",
        "        if count == 1:\n",
        "            return room\n",
        "\n",
        "# Example usage:\n",
        "room_numbers = [1, 2, 3, 6, 5, 4, 4, 2, 5, 3, 6, 1, 6, 5, 3, 2, 4, 1, 2, 5, 1, 4, 3, 6, 8, 4, 3, 1, 5, 6, 2]\n",
        "captains_room = find_captains_room(room_numbers)\n",
        "print(\"Captain's room number is:\", captains_room)"
      ],
      "metadata": {
        "colab": {
          "base_uri": "https://localhost:8080/"
        },
        "id": "NZWCmZtRfgCa",
        "outputId": "2905aa8a-1a97-4740-9979-4245852d9781"
      },
      "execution_count": null,
      "outputs": [
        {
          "output_type": "stream",
          "name": "stdout",
          "text": [
            "Captain's room number is: 8\n"
          ]
        }
      ]
    }
  ]
}