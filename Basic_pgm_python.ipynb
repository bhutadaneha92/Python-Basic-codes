{
  "nbformat": 4,
  "nbformat_minor": 0,
  "metadata": {
    "colab": {
      "provenance": [],
      "authorship_tag": "ABX9TyNSSl7izWzClmIqsXy+dzRx",
      "include_colab_link": true
    },
    "kernelspec": {
      "name": "python3",
      "display_name": "Python 3"
    }
  },
  "cells": [
    {
      "cell_type": "markdown",
      "metadata": {
        "id": "view-in-github",
        "colab_type": "text"
      },
      "source": [
        "<a href=\"https://colab.research.google.com/github/bhutadaneha92/Python-Basic-codes/blob/main/Basic_pgm_python.ipynb\" target=\"_parent\"><img src=\"https://colab.research.google.com/assets/colab-badge.svg\" alt=\"Open In Colab\"/></a>"
      ]
    },
    {
      "cell_type": "code",
      "metadata": {
        "colab": {
          "base_uri": "https://localhost:8080/"
        },
        "id": "Eb9Ca6lejzKD",
        "outputId": "46446f2c-4b55-4844-db00-44b72a71561e"
      },
      "source": [
        "#Problem 1 : Python Program to add two numbers using function\n",
        "def add(num1, num2) :\n",
        "  add = float(num1) + float(num2)\n",
        "  return add\n",
        "\n",
        "a = input(\"Enter a 1st number\")\n",
        "b = input(\"Enter a 2nd number\")\n",
        "num = add(a,b)\n",
        "print(\"Addition =\",num)"
      ],
      "execution_count": null,
      "outputs": [
        {
          "output_type": "stream",
          "name": "stdout",
          "text": [
            "Enter a 1st number1\n",
            "Enter a 2nd number2\n",
            "Addition = 3.0\n"
          ]
        }
      ]
    },
    {
      "cell_type": "code",
      "metadata": {
        "colab": {
          "base_uri": "https://localhost:8080/"
        },
        "id": "wt07LAenmjAk",
        "outputId": "87e9d2b9-91c3-4b67-ad57-aaac972f7881"
      },
      "source": [
        "#Problem 1 : Python Program to add two numbers without function\n",
        "a = input(\"Enter a 1st number\")\n",
        "b = input(\"Enter a 2nd number\")\n",
        "add = float(a) + float(b)\n",
        "print(\"Addition =\",add)"
      ],
      "execution_count": null,
      "outputs": [
        {
          "output_type": "stream",
          "text": [
            "Enter a 1st number5\n",
            "Enter a 2nd number3\n",
            "Addition = 8.0\n"
          ],
          "name": "stdout"
        }
      ]
    },
    {
      "cell_type": "code",
      "metadata": {
        "colab": {
          "base_uri": "https://localhost:8080/"
        },
        "id": "3PDjPo0cl4dK",
        "outputId": "26dff0d2-d712-40c9-b946-01f433606851"
      },
      "source": [
        "#Problem 1 : Python program to add two numbers\n",
        "num1 = 15\n",
        "num2 = 12\n",
        "# Adding two nos\n",
        "sum = num1 + num2\n",
        "# printing values\n",
        "print(\"Sum of {0} and {1} is {2}\" .format(num1, num2, sum))"
      ],
      "execution_count": null,
      "outputs": [
        {
          "output_type": "stream",
          "text": [
            "Sum of 15 and 12 is 27\n"
          ],
          "name": "stdout"
        }
      ]
    },
    {
      "cell_type": "code",
      "metadata": {
        "colab": {
          "base_uri": "https://localhost:8080/"
        },
        "id": "Ce4e6HwTybVl",
        "outputId": "fc3fd0c3-74fb-46b3-af79-9089d13279b4"
      },
      "source": [
        "#Problem 2 : Python Program for factorial of a number (iterative)\n",
        "def factorial(n) :\n",
        "    if n < 0 :\n",
        "        return\n",
        "    elif n==1 or n==0 :\n",
        "        return 1\n",
        "    else :\n",
        "        fact_num = 1\n",
        "        while(n > 1) :\n",
        "          fact_num = n * fact_num\n",
        "          n = n-1\n",
        "        return fact_num\n",
        "\n",
        "num = input(\"Enter a number\")\n",
        "fnum = factorial(int(num))\n",
        "\n",
        "print(\"factorial of number {0} is {1}\".format(num,fnum))"
      ],
      "execution_count": null,
      "outputs": [
        {
          "output_type": "stream",
          "text": [
            "Enter a number5\n",
            "factorial of number 5 is 120\n"
          ],
          "name": "stdout"
        }
      ]
    },
    {
      "cell_type": "code",
      "metadata": {
        "colab": {
          "base_uri": "https://localhost:8080/"
        },
        "id": "KLrnd-RGzv5-",
        "outputId": "7fc082e4-f165-4e32-878a-c9859a023b10"
      },
      "source": [
        "#Problem 2 : Python Program for factorial of a number (recursive)\n",
        "def factorial(n) :\n",
        "    if n==1 or n==0 :\n",
        "        return 1\n",
        "    else :\n",
        "        fact_num = n * factorial(n-1)\n",
        "        print(\"current n is {0} and fact_num is {1}\".format (n,fact_num))\n",
        "    return fact_num\n",
        "\n",
        "num = input(\"Enter a number\")\n",
        "fnum = factorial(int(num))\n",
        "print(\"factorial of number {0} is {1}\".format(num,fnum))"
      ],
      "execution_count": null,
      "outputs": [
        {
          "output_type": "stream",
          "text": [
            "Enter a number4\n",
            "current n is 2 and fact_num is 2\n",
            "current n is 3 and fact_num is 6\n",
            "current n is 4 and fact_num is 24\n",
            "factorial of number 4 is 24\n"
          ],
          "name": "stdout"
        }
      ]
    },
    {
      "cell_type": "code",
      "metadata": {
        "colab": {
          "base_uri": "https://localhost:8080/"
        },
        "id": "HXIdKY4T4zxR",
        "outputId": "bdd0711f-395c-4d7a-bf02-292c39af5562"
      },
      "source": [
        "#Problem 3 : Python Program for simple interest\n",
        "#Simple Interest = (P x T x R)/100\n",
        "p = float(input(\"Enter principle amount\"))\n",
        "r = float(input(\"Enter rate of interest\"))\n",
        "t = float(input(\"Enter time in year\"))\n",
        "\n",
        "SI = (p * t * r)/ 100\n",
        "print (\"SI is\", SI)"
      ],
      "execution_count": null,
      "outputs": [
        {
          "output_type": "stream",
          "text": [
            "Enter principle amount10000\n",
            "Enter rate of interest5\n",
            "Enter time in year5\n",
            "SI is 2500.0\n"
          ],
          "name": "stdout"
        }
      ]
    },
    {
      "cell_type": "code",
      "metadata": {
        "colab": {
          "base_uri": "https://localhost:8080/"
        },
        "id": "Mpl5URwW6KV-",
        "outputId": "9f550e20-6b07-451b-9e01-b36a38fa4c18"
      },
      "source": [
        "#Using function calculate SI\n",
        "def SI(p,t,r) :\n",
        "    SI = (p * t * r)/ 100\n",
        "    print (\"SI is\", SI)\n",
        "\n",
        "pa = float(input(\"Enter principle amount\"))\n",
        "ti = float(input(\"Enter time in year\"))\n",
        "ri = float(input(\"Enter rate of interest\"))\n",
        "SI(pa,ti,ri)"
      ],
      "execution_count": null,
      "outputs": [
        {
          "output_type": "stream",
          "text": [
            "Enter principle amount10000\n",
            "Enter rate of interest5\n",
            "Enter time in year5\n",
            "SI is 2500.0\n"
          ],
          "name": "stdout"
        }
      ]
    },
    {
      "cell_type": "code",
      "metadata": {
        "colab": {
          "base_uri": "https://localhost:8080/"
        },
        "id": "H6nYFm637TaG",
        "outputId": "473f4033-4e7e-4f57-a4a2-cbb94ac0ed89"
      },
      "source": [
        "#Problem 4 : Python Program for compound interest\n",
        "#Compound Interest = P*(1 + (R/100))^ t\n",
        "p = float(input(\"Enter principle amount\"))\n",
        "r = float(input(\"Enter rate of interest\"))\n",
        "t = float(input(\"Enter time in year\"))\n",
        "\n",
        "CI = p *(pow((1 + r/100), t))\n",
        "print(\"CI is\", CI)"
      ],
      "execution_count": null,
      "outputs": [
        {
          "output_type": "stream",
          "text": [
            "Enter principle amount1200\n",
            "Enter rate of interest5.4\n",
            "Enter time in year2\n",
            "CI is 1333.0992\n"
          ],
          "name": "stdout"
        }
      ]
    },
    {
      "cell_type": "code",
      "metadata": {
        "colab": {
          "base_uri": "https://localhost:8080/"
        },
        "id": "qxBazJGF9nrE",
        "outputId": "477162fe-bfe4-4fbc-a082-743f000a830e"
      },
      "source": [
        "#Using function calculate SI\n",
        "def CI(p,t,r) :\n",
        "    CI = p *(pow((1 + r/100), t))\n",
        "    print(\"CI is\", CI)\n",
        "\n",
        "pa = float(input(\"Enter principle amount\"))\n",
        "ti = float(input(\"Enter time in year\"))\n",
        "ri = float(input(\"Enter rate of interest\"))\n",
        "CI(pa,ti,ri)"
      ],
      "execution_count": null,
      "outputs": [
        {
          "output_type": "stream",
          "text": [
            "Enter principle amount1200\n",
            "Enter time in year2\n",
            "Enter rate of interest5.4\n",
            "CI is 1333.0992\n"
          ],
          "name": "stdout"
        }
      ]
    },
    {
      "cell_type": "code",
      "metadata": {
        "colab": {
          "base_uri": "https://localhost:8080/"
        },
        "id": "ZgQP8FS3FoAn",
        "outputId": "0f1c9576-a636-4b7a-e553-1f338b0936f8"
      },
      "source": [
        "def Area(r) :\n",
        "    area = 3.142 * (r*r)\n",
        "    return area\n",
        "\n",
        "\n",
        "r = float (input(\"Enter radius of circle\"))\n",
        "AOC = Area(r)\n",
        "print(\"AOC is\",AOC)"
      ],
      "execution_count": null,
      "outputs": [
        {
          "output_type": "stream",
          "text": [
            "Enter radius of circle2\n",
            "AOC is 12.568\n"
          ],
          "name": "stdout"
        }
      ]
    },
    {
      "cell_type": "code",
      "metadata": {
        "colab": {
          "base_uri": "https://localhost:8080/"
        },
        "id": "0-QT9HKAHzbk",
        "outputId": "9243cacc-7677-4091-b8b8-2ec9e8a30b8e"
      },
      "source": [
        "val = 5\n",
        "n=val//2\n",
        "print(n)"
      ],
      "execution_count": null,
      "outputs": [
        {
          "output_type": "stream",
          "text": [
            "2\n"
          ],
          "name": "stdout"
        }
      ]
    },
    {
      "cell_type": "markdown",
      "source": [
        "# Problem 1 : Python Program for Linear Search\n",
        "Problem: Given an array arr[] of n elements, write a function to search a given\n",
        "element x in arr[]."
      ],
      "metadata": {
        "id": "FlwVOQ-1ONh_"
      }
    },
    {
      "cell_type": "code",
      "source": [
        "arr = [10, 20, 80, 30, 60, 50, 110, 100, 130, 170]\n",
        "#x = 110\n",
        "x = int(input(\"Enter a number\"))\n",
        "\n",
        "for i in range(len(arr)):\n",
        "  if x == arr[i]:\n",
        "    print(\"Element x is present at index = \",i)\n",
        "\n"
      ],
      "metadata": {
        "colab": {
          "base_uri": "https://localhost:8080/"
        },
        "id": "13QrUrNzOMe_",
        "outputId": "53d45fc6-c64b-47b2-b1de-7e0d51012fa0"
      },
      "execution_count": null,
      "outputs": [
        {
          "output_type": "stream",
          "name": "stdout",
          "text": [
            "Enter a number110\n",
            "Element x is present at index =  6\n"
          ]
        }
      ]
    },
    {
      "cell_type": "markdown",
      "source": [
        "# Problem 2 : Python Program for Binary Search\n",
        "(Recursive and Iterative)\n",
        "\n",
        "If the middle element is greater than the target element, the function calls itself on the left subarray, otherwise, the function calls itself on the right subarray. The recursive solution will call itself.\n",
        "\n",
        "The non-recursive solution will use a loop."
      ],
      "metadata": {
        "id": "k74qOWXnR178"
      }
    },
    {
      "cell_type": "code",
      "source": [
        "\n",
        "\n",
        "#Recursive\n",
        "def BS(arr,low,high,inp):\n",
        "\n",
        "  #Check base condition\n",
        "  if high >= low:\n",
        "    mid = low + (high-low) //2\n",
        "\n",
        "    # Check if x is present at mid\n",
        "    if arr[mid] == inp:\n",
        "      return mid\n",
        "\n",
        "    # If element is smaller than mid, then it can only be present in left subarray\n",
        "    elif arr[mid] > inp:\n",
        "      return BS(arr,low,mid-1,inp)\n",
        "\n",
        "    # Else the element can only be present in right subarray\n",
        "    else:\n",
        "      return BS(arr,mid+1,high,inp)\n",
        "\n",
        "  else:\n",
        "\n",
        "    # If we reach here, then the element was not present\n",
        "    return -1\n",
        "\n",
        "#Driver code\n",
        "if __name__=='__main__':\n",
        "  arr = [2, 3, 4, 10, 40]\n",
        "  inp = 10\n",
        "  result = BS(arr,0,len(arr)-1,inp)\n",
        "\n",
        "  if result != -1:\n",
        "    print(\"Number found at index\",result)\n",
        "  else:\n",
        "    print(\"Number not present\")\n"
      ],
      "metadata": {
        "colab": {
          "base_uri": "https://localhost:8080/"
        },
        "id": "Lg-UMSdhR8a8",
        "outputId": "11186b28-82d1-44a7-c1fa-8ffb80225c48"
      },
      "execution_count": null,
      "outputs": [
        {
          "output_type": "stream",
          "name": "stdout",
          "text": [
            "Number found at index 3\n"
          ]
        }
      ]
    },
    {
      "cell_type": "markdown",
      "source": [
        "#Iterative\n",
        "Here we use a while loop to continue the process of comparing the key and splitting the search space in two halves."
      ],
      "metadata": {
        "id": "EpOo8K1Rhwbg"
      }
    },
    {
      "cell_type": "code",
      "source": [
        "#Iterative\n",
        "\n",
        "def BS(arr,low,high,inp):\n",
        "\n",
        "  #Check base condition\n",
        "  while (low <=high):\n",
        "\n",
        "    mid = low + (high-low) //2\n",
        "\n",
        "    # Check if x is present at mid\n",
        "    if arr[mid] == inp:\n",
        "      return mid\n",
        "\n",
        "    # If element is smaller than mid, then it can only be present in left subarray\n",
        "    elif arr[mid] > inp:\n",
        "      high = mid - 1\n",
        "\n",
        "    # Else the element can only be present in right subarray\n",
        "    else:\n",
        "      low = mid + 1\n",
        "\n",
        "  # If we reach here, then the element was not present\n",
        "  return -1\n",
        "\n",
        "#Driver code\n",
        "if __name__=='__main__':\n",
        "  arr = [2, 3, 4, 10, 40]\n",
        "  inp = 10\n",
        "  result = BS(arr,0,len(arr)-1,inp)\n",
        "\n",
        "  if result != -1:\n",
        "    print(\"Number found at index\",result)\n",
        "  else:\n",
        "    print(\"Number not present\")\n"
      ],
      "metadata": {
        "colab": {
          "base_uri": "https://localhost:8080/"
        },
        "id": "vgMgAvdYhlpz",
        "outputId": "9cdc317a-3167-4245-a884-49f2ebfadc91"
      },
      "execution_count": null,
      "outputs": [
        {
          "output_type": "stream",
          "name": "stdout",
          "text": [
            "Number found at index 3\n"
          ]
        }
      ]
    },
    {
      "cell_type": "code",
      "source": [
        "# Python program to display all the prime numbers within an interval\n",
        "\n",
        "lower = 1\n",
        "upper = 10\n",
        "\n",
        "print(\"Prime numbers between\", lower, \"and\", upper, \"are:\")\n",
        "\n",
        "for num in range(lower, upper + 1):\n",
        "   # all prime numbers are greater than 1\n",
        "   if num > 1:\n",
        "       for i in range(2, num):\n",
        "           if (num % i) == 0:\n",
        "               break\n",
        "       else:\n",
        "          print(num)"
      ],
      "metadata": {
        "colab": {
          "base_uri": "https://localhost:8080/"
        },
        "id": "FXwdu6xcCRaP",
        "outputId": "1d4dd3a3-e320-4641-9acb-23c4ef441e51"
      },
      "execution_count": null,
      "outputs": [
        {
          "output_type": "stream",
          "name": "stdout",
          "text": [
            "Prime numbers between 1 and 10 are:\n",
            "2\n",
            "3\n",
            "5\n",
            "7\n"
          ]
        }
      ]
    }
  ]
}